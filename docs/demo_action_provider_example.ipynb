{
 "cells": [
  {
   "cell_type": "markdown",
   "metadata": {},
   "source": [
    "# Demo DERIVA Ingest Action Provider Flow\n",
    "This notebook demonstrates using the DERIVA Ingest Action Provider via a premade Flow.\n",
    "\n",
    "To run this notebook, you must have the `globus-automate-client` (to run the Flow) and `deriva-client` (to see the catalog) installed. The clients can be installed with `pip`:\n",
    "\n",
    "`pip install globus-automate-client deriva-client`"
   ]
  },
  {
   "cell_type": "code",
   "execution_count": 1,
   "metadata": {},
   "outputs": [],
   "source": [
    "import globus_automate_client\n",
    "from deriva.core.ermrest_catalog import ErmrestCatalog\n",
    "# Prerequisite IDs and data\n",
    "native_app_id = \"417301b1-5101-456a-8a27-423e71a2ae26\"  # Premade native app ID\n",
    "flow_id = \"f172de09-b75b-4b83-9b97-90877b42c774\"  # ID for flow to use, can be found through .list_flows()\n",
    "backup_url = \"https://s3-us-west-2.amazonaws.com/demo.derivacloud.org/cfde/cfde-backup.zip\"  # Data for the Action\n",
    "example_sample_id = \"GTEX-OIZI-0008-SM-2XV77\"  # Sample ID for one entry in the data to ingest"
   ]
  },
  {
   "cell_type": "markdown",
   "metadata": {},
   "source": [
    "The `FlowsClient` is instantiated with the client ID of a native app registered with Globus (see the [Globus Developers](https://developers.globus.org/) website)."
   ]
  },
  {
   "cell_type": "code",
   "execution_count": 2,
   "metadata": {},
   "outputs": [],
   "source": [
    "flows_client = globus_automate_client.create_flows_client(native_app_id)"
   ]
  },
  {
   "cell_type": "markdown",
   "metadata": {},
   "source": [
    "The definition of a Flow can be found by querying on the Flow's ID. This definition includes the Flow's scope, which is needed for running the Flow."
   ]
  },
  {
   "cell_type": "code",
   "execution_count": 3,
   "metadata": {},
   "outputs": [
    {
     "data": {
      "text/plain": [
       "{'administered_by': [],\n",
       " 'api_version': '1.0',\n",
       " 'definition': {'Comment': 'Run the Demo Deriva Ingest Action',\n",
       "  'StartAt': 'RunDeriva',\n",
       "  'States': {'RunDeriva': {'ActionScope': 'https://auth.globus.org/scopes/21017803-059f-4a9b-b64c-051ab7c1d05d/demo',\n",
       "    'ActionUrl': 'https://demo-api.fair-research.org/',\n",
       "    'End': True,\n",
       "    'InputPath': '$.DerivaInput',\n",
       "    'ResultPath': '$.DerivaResult',\n",
       "    'Type': 'Action',\n",
       "    'WaitTime': 86400}}},\n",
       " 'description': '',\n",
       " 'globus_auth_scope': 'https://auth.globus.org/scopes/f172de09-b75b-4b83-9b97-90877b42c774/flow_f172de09_b75b_4b83_9b97_90877b42c774',\n",
       " 'globus_auth_username': 'f172de09-b75b-4b83-9b97-90877b42c774@clients.auth.globus.org',\n",
       " 'id': 'f172de09-b75b-4b83-9b97-90877b42c774',\n",
       " 'keywords': [],\n",
       " 'log_supported': True,\n",
       " 'principal_urn': 'urn:globus:auth:identity:f172de09-b75b-4b83-9b97-90877b42c774',\n",
       " 'runnable_by': [],\n",
       " 'subtitle': '',\n",
       " 'synchronous': False,\n",
       " 'title': 'Deriva Demo Flow',\n",
       " 'types': ['Action'],\n",
       " 'visible_to': []}"
      ]
     },
     "execution_count": 3,
     "metadata": {},
     "output_type": "execute_result"
    }
   ],
   "source": [
    "flow_def = flows_client.get_flow(flow_id)\n",
    "flow_def.data"
   ]
  },
  {
   "cell_type": "code",
   "execution_count": 4,
   "metadata": {},
   "outputs": [],
   "source": [
    "flow_scope = flow_def[\"globus_auth_scope\"]"
   ]
  },
  {
   "cell_type": "markdown",
   "metadata": {},
   "source": [
    "Input keyed on the Action name (see the `flow_def` above) is passed to the Action Provider directly."
   ]
  },
  {
   "cell_type": "code",
   "execution_count": 5,
   "metadata": {},
   "outputs": [],
   "source": [
    "flow_input = {\n",
    "    \"DerivaInput\": {\n",
    "        \"url\": backup_url\n",
    "    }\n",
    "}"
   ]
  },
  {
   "cell_type": "markdown",
   "metadata": {},
   "source": [
    "Running the flow combines all the previous elements into one call, and returns the starting state of the Flow, including the ID of this instance of the Flow."
   ]
  },
  {
   "cell_type": "code",
   "execution_count": 6,
   "metadata": {
    "scrolled": true
   },
   "outputs": [
    {
     "data": {
      "text/plain": [
       "{'action_id': 'aae27162-a8ee-499e-8df5-a12315cd646f',\n",
       " 'completion_time': 'None',\n",
       " 'created_by': 'urn:globus:auth:identity:117e8833-68f5-4cb2-afb3-05b25db69be1',\n",
       " 'details': {'code': 'ActionStarted',\n",
       "  'description': 'State RunDeriva of type Action started',\n",
       "  'details': {'input': {'DerivaInput': {'url': 'https://s3-us-west-2.amazonaws.com/demo.derivacloud.org/cfde/cfde-backup.zip'}},\n",
       "   'state_name': 'RunDeriva',\n",
       "   'state_type': 'Action'},\n",
       "  'time': '2019-08-30T15:32:35.153000+00:00'},\n",
       " 'start_time': '2019-08-30T15:32:35.128000+00:00',\n",
       " 'status': 'ACTIVE'}"
      ]
     },
     "execution_count": 6,
     "metadata": {},
     "output_type": "execute_result"
    }
   ],
   "source": [
    "flow_res = flows_client.run_flow(flow_id, flow_scope, flow_input)\n",
    "flow_res.data"
   ]
  },
  {
   "cell_type": "code",
   "execution_count": 7,
   "metadata": {},
   "outputs": [],
   "source": [
    "instance_id = flow_res[\"action_id\"]"
   ]
  },
  {
   "cell_type": "markdown",
   "metadata": {},
   "source": [
    "After the Flow is started, the status can be queried with the `instance_id`."
   ]
  },
  {
   "cell_type": "code",
   "execution_count": 8,
   "metadata": {},
   "outputs": [
    {
     "data": {
      "text/plain": [
       "{'action_id': 'aae27162-a8ee-499e-8df5-a12315cd646f',\n",
       " 'completion_time': 'None',\n",
       " 'created_by': 'urn:globus:auth:identity:117e8833-68f5-4cb2-afb3-05b25db69be1',\n",
       " 'details': {'code': 'ActionStarted',\n",
       "  'description': 'State RunDeriva of type Action started',\n",
       "  'details': {'input': {'DerivaInput': {'url': 'https://s3-us-west-2.amazonaws.com/demo.derivacloud.org/cfde/cfde-backup.zip'}},\n",
       "   'state_name': 'RunDeriva',\n",
       "   'state_type': 'Action'},\n",
       "  'time': '2019-08-30T15:32:35.153000+00:00'},\n",
       " 'start_time': '2019-08-30T15:32:35.128000+00:00',\n",
       " 'status': 'ACTIVE'}"
      ]
     },
     "execution_count": 8,
     "metadata": {},
     "output_type": "execute_result"
    }
   ],
   "source": [
    "flows_client.flow_action_status(flow_id, flow_scope, instance_id).data"
   ]
  },
  {
   "cell_type": "markdown",
   "metadata": {},
   "source": [
    "Eventually, the Flow will complete (in this case successfully) and we can pull out the return value(s) of interest."
   ]
  },
  {
   "cell_type": "code",
   "execution_count": 9,
   "metadata": {
    "scrolled": false
   },
   "outputs": [
    {
     "data": {
      "text/plain": [
       "{'action_id': 'aae27162-a8ee-499e-8df5-a12315cd646f',\n",
       " 'completion_time': '2019-08-30T15:35:14.650000+00:00',\n",
       " 'created_by': 'urn:globus:auth:identity:117e8833-68f5-4cb2-afb3-05b25db69be1',\n",
       " 'details': {'output': {'DerivaInput': {'url': 'https://s3-us-west-2.amazonaws.com/demo.derivacloud.org/cfde/cfde-backup.zip'},\n",
       "   'DerivaResult': {'action_id': '5d694197c5c3858bb5cbe5ed',\n",
       "    'creator_id': 'urn:globus:auth:identity:117e8833-68f5-4cb2-afb3-05b25db69be1',\n",
       "    'details': {'deriva_id': 113,\n",
       "     'deriva_samples_link': 'https://demo.derivacloud.org/chaise/recordset/#113/demo:Samples',\n",
       "     'message': 'DERIVA restore successful'},\n",
       "    'manage_by': ['urn:globus:auth:identity:96801dc2-95d7-44f0-9383-d3e747be8ab6',\n",
       "     'urn:globus:auth:identity:117e8833-68f5-4cb2-afb3-05b25db69be1'],\n",
       "    'monitor_by': ['urn:globus:auth:identity:96801dc2-95d7-44f0-9383-d3e747be8ab6',\n",
       "     'urn:globus:auth:identity:117e8833-68f5-4cb2-afb3-05b25db69be1'],\n",
       "    'release_after': 'P30D',\n",
       "    'request_id': 'flows_req_c0980d9b-2418-4d6e-ab45-cb042e4cdcf6',\n",
       "    'status': 'SUCCEEDED'}}},\n",
       " 'start_time': '2019-08-30T15:32:35.128000+00:00',\n",
       " 'status': 'SUCCEEDED'}"
      ]
     },
     "execution_count": 9,
     "metadata": {},
     "output_type": "execute_result"
    }
   ],
   "source": [
    "response = flows_client.flow_action_status(flow_id, flow_scope, instance_id).data\n",
    "response"
   ]
  },
  {
   "cell_type": "code",
   "execution_count": 10,
   "metadata": {},
   "outputs": [],
   "source": [
    "deriva_catalog_id = response[\"details\"][\"output\"][\"DerivaResult\"][\"details\"][\"deriva_id\"]"
   ]
  },
  {
   "cell_type": "markdown",
   "metadata": {},
   "source": [
    "Now, we can look at the restored catalog with the DERIVA client."
   ]
  },
  {
   "cell_type": "code",
   "execution_count": 11,
   "metadata": {
    "scrolled": true
   },
   "outputs": [
    {
     "data": {
      "text/plain": [
       "{'snaptime': '2S2-NTX8-DRZ0',\n",
       " 'annotations': {'tag:misd.isi.edu,2015:display': {}},\n",
       " 'rights': {'create': False, 'owner': False},\n",
       " 'id': '113'}"
      ]
     },
     "execution_count": 11,
     "metadata": {},
     "output_type": "execute_result"
    }
   ],
   "source": [
    "catalog = ErmrestCatalog(\"https\", \"demo.derivacloud.org\", str(deriva_catalog_id))\n",
    "catalog.get(\"/\").json()"
   ]
  },
  {
   "cell_type": "code",
   "execution_count": 12,
   "metadata": {
    "scrolled": true
   },
   "outputs": [
    {
     "data": {
      "text/plain": [
       "[{'RID': '1-RWV6',\n",
       "  'RCT': '2018-10-10T19:07:51.372572+00:00',\n",
       "  'RMT': '2019-08-30T15:33:58.393514+00:00',\n",
       "  'RCB': 'https://auth.globus.org/bb256144-d274-11e5-adb1-13a4cc43acbd',\n",
       "  'RMB': 'https://auth.globus.org/117e8833-68f5-4cb2-afb3-05b25db69be1',\n",
       "  'SAMPID': 'GTEX-OIZI-0008-SM-2XV77',\n",
       "  'DATASET': 'GTEx',\n",
       "  'SUBJID': 'OIZI',\n",
       "  'SMATSSCR': None,\n",
       "  'SMCENTER': 'C1',\n",
       "  'SMPTHNTS': None,\n",
       "  'SMRIN': '10',\n",
       "  'SMTS': 'Skin',\n",
       "  'SMTSD': 'Cells - Transformed fibroblasts',\n",
       "  'SMUBRID': 'EFO_0002009',\n",
       "  'SMTSISCH': None,\n",
       "  'SMTSPAX': None,\n",
       "  'SMNABTCH': 'BP-20433',\n",
       "  'SMNABTCHT': 'RNA isolation_Trizol Manual (Cell Pellet)',\n",
       "  'SMNABTCHD': '2011-12-01T00:00:00+00:00',\n",
       "  'SMGEBTCH': 'GTEx_AffyBatch9_May12',\n",
       "  'SMGEBTCHD': '2012-05-31T00:00:00+00:00',\n",
       "  'SMGEBTCHT': 'Affymetrix Expression',\n",
       "  'LIBRARY_TYPE': 'EXCLUDE',\n",
       "  'SME2MPRT': None,\n",
       "  'SMCHMPRS': None,\n",
       "  'SMNTRART': None,\n",
       "  'SMNUMGPS': None,\n",
       "  'SMMAPRT': None,\n",
       "  'SMEXNCRT': None,\n",
       "  'SM550NRM': None,\n",
       "  'SMGNSDTC': None,\n",
       "  'SMUNMPRT': None,\n",
       "  'SM350NRM': None,\n",
       "  'SMRDLGTH': None,\n",
       "  'SMMNCPB': None,\n",
       "  'SME1MMRT': None,\n",
       "  'SMSFLGTH': None,\n",
       "  'SMESTLBS': None,\n",
       "  'SMMPPD': None,\n",
       "  'SMNTERRT': None,\n",
       "  'SMRRNANM': None,\n",
       "  'SMRDTTL': None,\n",
       "  'SMVQCFL': None,\n",
       "  'SMMNCV': None,\n",
       "  'SMTRSCPT': None,\n",
       "  'SMMPPDPR': None,\n",
       "  'SMCGLGTH': None,\n",
       "  'SMGAPPCT': None,\n",
       "  'SMUNPDRD': None,\n",
       "  'SMNTRNRT': None,\n",
       "  'SMMPUNRT': None,\n",
       "  'SMEXPEFF': None,\n",
       "  'SMMPPDUN': None,\n",
       "  'SME2MMRT': None,\n",
       "  'SME2ANTI': None,\n",
       "  'SMALTALG': None,\n",
       "  'SME2SNSE': None,\n",
       "  'SMMFLGTH': None,\n",
       "  'SME1ANTI': None,\n",
       "  'SMSPLTRD': None,\n",
       "  'SMBSMMRT': None,\n",
       "  'SME1SNSE': None,\n",
       "  'SME1PCTS': None,\n",
       "  'SMRRNART': None,\n",
       "  'SME1MPRT': None,\n",
       "  'SMNUM5CD': None,\n",
       "  'SMDPMPRT': None,\n",
       "  'SME2PCTS': None}]"
      ]
     },
     "execution_count": 12,
     "metadata": {},
     "output_type": "execute_result"
    }
   ],
   "source": [
    "catalog.get(\"/entity/Samples/SAMPID={}\".format(example_sample_id)).json()"
   ]
  },
  {
   "cell_type": "code",
   "execution_count": null,
   "metadata": {},
   "outputs": [],
   "source": []
  }
 ],
 "metadata": {
  "kernelspec": {
   "display_name": "Python 3",
   "language": "python",
   "name": "python3"
  },
  "language_info": {
   "codemirror_mode": {
    "name": "ipython",
    "version": 3
   },
   "file_extension": ".py",
   "mimetype": "text/x-python",
   "name": "python",
   "nbconvert_exporter": "python",
   "pygments_lexer": "ipython3",
   "version": "3.7.3"
  }
 },
 "nbformat": 4,
 "nbformat_minor": 2
}
