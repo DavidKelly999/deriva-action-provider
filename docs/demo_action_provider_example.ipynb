{
 "cells": [
  {
   "cell_type": "markdown",
   "metadata": {},
   "source": [
    "# Demo DERIVA Ingest Action Provider Flow\n",
    "This notebook demonstrates using the DERIVA Ingest Action Provider via a premade Flow.\n",
    "\n",
    "To run this notebook, you must have the `globus-automate-client` (to run the Flow) and `deriva-client` (to see the catalog) installed. The clients can be installed with `pip`:\n",
    "\n",
    "`pip install globus-automate-client deriva-client`"
   ]
  },
  {
   "cell_type": "code",
   "execution_count": 1,
   "metadata": {},
   "outputs": [],
   "source": [
    "import globus_automate_client\n",
    "from deriva.core.ermrest_catalog import ErmrestCatalog\n",
    "# Prerequisite IDs and data\n",
    "native_app_id = \"417301b1-5101-456a-8a27-423e71a2ae26\"  # Premade native app ID\n",
    "flow_id = \"f172de09-b75b-4b83-9b97-90877b42c774\"  # ID for flow to use, can be found through .list_flows()\n",
    "backup_url = \"https://s3-us-west-2.amazonaws.com/demo.derivacloud.org/cfde/cfde-backup.zip\"  # Data for the Action\n",
    "example_sample_id = \"GTEX-OIZI-0008-SM-2XV77\"  # Sample ID for one entry in the data to ingest"
   ]
  },
  {
   "cell_type": "markdown",
   "metadata": {},
   "source": [
    "The `FlowsClient` is instantiated with the client ID of a native app registered with Globus (see the [Globus Developers](https://developers.globus.org/) website)."
   ]
  },
  {
   "cell_type": "code",
   "execution_count": 2,
   "metadata": {},
   "outputs": [],
   "source": [
    "flows_client = globus_automate_client.create_flows_client(native_app_id)"
   ]
  },
  {
   "cell_type": "markdown",
   "metadata": {},
   "source": [
    "The definition of a Flow can be found by querying on the Flow's ID. This definition includes the Flow's scope, which is needed for running the Flow."
   ]
  },
  {
   "cell_type": "code",
   "execution_count": 3,
   "metadata": {},
   "outputs": [
    {
     "data": {
      "text/plain": [
       "{'administered_by': [],\n",
       " 'api_version': '1.0',\n",
       " 'definition': {'Comment': 'Run the Demo Deriva Ingest Action',\n",
       "  'StartAt': 'RunDeriva',\n",
       "  'States': {'RunDeriva': {'ActionScope': 'https://auth.globus.org/scopes/21017803-059f-4a9b-b64c-051ab7c1d05d/demo',\n",
       "    'ActionUrl': 'https://demo-api.fair-research.org/',\n",
       "    'End': True,\n",
       "    'InputPath': '$.DerivaInput',\n",
       "    'ResultPath': '$.DerivaResult',\n",
       "    'Type': 'Action',\n",
       "    'WaitTime': 86400}}},\n",
       " 'description': '',\n",
       " 'globus_auth_scope': 'https://auth.globus.org/scopes/f172de09-b75b-4b83-9b97-90877b42c774/flow_f172de09_b75b_4b83_9b97_90877b42c774',\n",
       " 'globus_auth_username': 'f172de09-b75b-4b83-9b97-90877b42c774@clients.auth.globus.org',\n",
       " 'id': 'f172de09-b75b-4b83-9b97-90877b42c774',\n",
       " 'keywords': [],\n",
       " 'log_supported': True,\n",
       " 'principal_urn': 'urn:globus:auth:identity:f172de09-b75b-4b83-9b97-90877b42c774',\n",
       " 'runnable_by': [],\n",
       " 'subtitle': '',\n",
       " 'synchronous': False,\n",
       " 'title': 'Deriva Demo Flow',\n",
       " 'types': ['Action'],\n",
       " 'visible_to': []}"
      ]
     },
     "execution_count": 3,
     "metadata": {},
     "output_type": "execute_result"
    }
   ],
   "source": [
    "flow_def = flows_client.get_flow(flow_id)\n",
    "flow_def.data"
   ]
  },
  {
   "cell_type": "code",
   "execution_count": 4,
   "metadata": {},
   "outputs": [],
   "source": [
    "flow_scope = flow_def[\"globus_auth_scope\"]"
   ]
  },
  {
   "cell_type": "markdown",
   "metadata": {},
   "source": [
    "Input keyed on the Action name (see the `flow_def` above) is passed to the Action Provider directly."
   ]
  },
  {
   "cell_type": "code",
   "execution_count": 5,
   "metadata": {},
   "outputs": [],
   "source": [
    "# Input for restoring a catalog\n",
    "restore_flow_input = {\n",
    "    \"DerivaInput\": {\n",
    "        \"restore_url\": \"https://s3-us-west-2.amazonaws.com/demo.derivacloud.org/cfde/cfde-backup.zip\"\n",
    "    }\n",
    "}\n",
    "# Input for creating and ingesting into a new catalog\n",
    "ingest_flow_input = {\n",
    "    \"DerivaInput\": {\n",
    "        \"ingest_url\": \"https://examples.fair-research.org/public/CFDE/metadata/CFDE-GTEx-v7.2effcf3.C2M2.bdbag.tgz\"\n",
    "    }\n",
    "}"
   ]
  },
  {
   "cell_type": "code",
   "execution_count": 6,
   "metadata": {},
   "outputs": [],
   "source": [
    "# We're using the ingest flow\n",
    "flow_input = ingest_flow_input"
   ]
  },
  {
   "cell_type": "markdown",
   "metadata": {},
   "source": [
    "Running the flow combines all the previous elements into one call, and returns the starting state of the Flow, including the ID of this instance of the Flow."
   ]
  },
  {
   "cell_type": "code",
   "execution_count": 7,
   "metadata": {
    "scrolled": true
   },
   "outputs": [
    {
     "data": {
      "text/plain": [
       "{'action_id': 'bfe46f09-1629-4261-9033-43ff778988cb',\n",
       " 'completion_time': 'None',\n",
       " 'created_by': 'urn:globus:auth:identity:117e8833-68f5-4cb2-afb3-05b25db69be1',\n",
       " 'details': {'code': 'ActionStarted',\n",
       "  'description': 'State RunDeriva of type Action started',\n",
       "  'details': {'input': {'DerivaInput': {'ingest_url': 'https://examples.fair-research.org/public/CFDE/metadata/CFDE-GTEx-v7.2effcf3.C2M2.bdbag.tgz'}},\n",
       "   'state_name': 'RunDeriva',\n",
       "   'state_type': 'Action'},\n",
       "  'time': '2019-09-25T16:17:13.006000+00:00'},\n",
       " 'start_time': '2019-09-25T16:17:12.980000+00:00',\n",
       " 'status': 'ACTIVE'}"
      ]
     },
     "execution_count": 7,
     "metadata": {},
     "output_type": "execute_result"
    }
   ],
   "source": [
    "flow_res = flows_client.run_flow(flow_id, flow_scope, flow_input)\n",
    "flow_res.data"
   ]
  },
  {
   "cell_type": "code",
   "execution_count": 8,
   "metadata": {},
   "outputs": [],
   "source": [
    "instance_id = flow_res[\"action_id\"]"
   ]
  },
  {
   "cell_type": "markdown",
   "metadata": {},
   "source": [
    "After the Flow is started, the status can be queried with the `instance_id`."
   ]
  },
  {
   "cell_type": "code",
   "execution_count": 9,
   "metadata": {},
   "outputs": [
    {
     "data": {
      "text/plain": [
       "{'action_id': 'bfe46f09-1629-4261-9033-43ff778988cb',\n",
       " 'completion_time': 'None',\n",
       " 'created_by': 'urn:globus:auth:identity:117e8833-68f5-4cb2-afb3-05b25db69be1',\n",
       " 'details': {'action_url': 'https://demo-api.fair-research.org/',\n",
       "  'code': 'ActionPolled',\n",
       "  'description': 'Polling for completion of action state RunDeriva',\n",
       "  'details': {'state_name': 'RunDeriva'},\n",
       "  'time': '2019-09-25T16:17:13.447000+00:00'},\n",
       " 'start_time': '2019-09-25T16:17:12.980000+00:00',\n",
       " 'status': 'ACTIVE'}"
      ]
     },
     "execution_count": 9,
     "metadata": {},
     "output_type": "execute_result"
    }
   ],
   "source": [
    "flows_client.flow_action_status(flow_id, flow_scope, instance_id).data"
   ]
  },
  {
   "cell_type": "markdown",
   "metadata": {},
   "source": [
    "Eventually, the Flow will complete (in this case successfully) and we can pull out the return value(s) of interest."
   ]
  },
  {
   "cell_type": "code",
   "execution_count": 10,
   "metadata": {
    "scrolled": false
   },
   "outputs": [
    {
     "data": {
      "text/plain": [
       "{'action_id': 'bfe46f09-1629-4261-9033-43ff778988cb',\n",
       " 'completion_time': '2019-09-25T16:19:48.387000+00:00',\n",
       " 'created_by': 'urn:globus:auth:identity:117e8833-68f5-4cb2-afb3-05b25db69be1',\n",
       " 'details': {'output': {'DerivaInput': {'ingest_url': 'https://examples.fair-research.org/public/CFDE/metadata/CFDE-GTEx-v7.2effcf3.C2M2.bdbag.tgz'},\n",
       "   'DerivaResult': {'action_id': '5d8b9309c9e0d5da0c40d372',\n",
       "    'creator_id': 'urn:globus:auth:identity:117e8833-68f5-4cb2-afb3-05b25db69be1',\n",
       "    'details': {'deriva_id': 142,\n",
       "     'deriva_link': 'https://demo.derivacloud.org/chaise/recordset/#142/CFDE:Dataset',\n",
       "     'message': 'DERIVA ingest successful'},\n",
       "    'manage_by': ['urn:globus:auth:identity:96801dc2-95d7-44f0-9383-d3e747be8ab6',\n",
       "     'urn:globus:auth:identity:117e8833-68f5-4cb2-afb3-05b25db69be1'],\n",
       "    'monitor_by': ['urn:globus:auth:identity:96801dc2-95d7-44f0-9383-d3e747be8ab6',\n",
       "     'urn:globus:auth:identity:117e8833-68f5-4cb2-afb3-05b25db69be1'],\n",
       "    'release_after': 'P30D',\n",
       "    'request_id': 'flows_req_1a87a10d-e4b5-4635-8051-739f2e1e998f',\n",
       "    'status': 'SUCCEEDED'}}},\n",
       " 'start_time': '2019-09-25T16:17:12.980000+00:00',\n",
       " 'status': 'SUCCEEDED'}"
      ]
     },
     "execution_count": 10,
     "metadata": {},
     "output_type": "execute_result"
    }
   ],
   "source": [
    "response = flows_client.flow_action_status(flow_id, flow_scope, instance_id).data\n",
    "response"
   ]
  },
  {
   "cell_type": "code",
   "execution_count": 11,
   "metadata": {},
   "outputs": [
    {
     "name": "stdout",
     "output_type": "stream",
     "text": [
      "The web link for this catalog is:\n",
      "https://demo.derivacloud.org/chaise/recordset/#142/CFDE:Dataset\n"
     ]
    }
   ],
   "source": [
    "deriva_catalog_id = response[\"details\"][\"output\"][\"DerivaResult\"][\"details\"][\"deriva_id\"]\n",
    "print(\"The web link for this catalog is:\\n\", response[\"details\"][\"output\"][\"DerivaResult\"][\"details\"][\"deriva_link\"], sep=\"\")"
   ]
  },
  {
   "cell_type": "markdown",
   "metadata": {},
   "source": [
    "Now, we can look at the catalog with the DERIVA client."
   ]
  },
  {
   "cell_type": "code",
   "execution_count": 12,
   "metadata": {
    "scrolled": true
   },
   "outputs": [
    {
     "data": {
      "text/plain": [
       "{'snaptime': '2S6-RR4W-2YV0',\n",
       " 'annotations': {'tag:isrd.isi.edu,2019:chaise-config': {'SystemColumnsDisplayCompact': []}},\n",
       " 'rights': {'create': False, 'owner': False},\n",
       " 'id': '142'}"
      ]
     },
     "execution_count": 12,
     "metadata": {},
     "output_type": "execute_result"
    }
   ],
   "source": [
    "catalog = ErmrestCatalog(\"https\", \"demo.derivacloud.org\", str(deriva_catalog_id))\n",
    "catalog.get(\"/\").json()"
   ]
  },
  {
   "cell_type": "code",
   "execution_count": 13,
   "metadata": {
    "scrolled": true
   },
   "outputs": [],
   "source": [
    "# catalog.get(\"/entity/Samples/SAMPID={}\".format(example_sample_id)).json()"
   ]
  },
  {
   "cell_type": "code",
   "execution_count": null,
   "metadata": {},
   "outputs": [],
   "source": []
  }
 ],
 "metadata": {
  "kernelspec": {
   "display_name": "Python 3",
   "language": "python",
   "name": "python3"
  },
  "language_info": {
   "codemirror_mode": {
    "name": "ipython",
    "version": 3
   },
   "file_extension": ".py",
   "mimetype": "text/x-python",
   "name": "python",
   "nbconvert_exporter": "python",
   "pygments_lexer": "ipython3",
   "version": "3.7.3"
  }
 },
 "nbformat": 4,
 "nbformat_minor": 2
}
